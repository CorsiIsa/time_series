{
 "cells": [
  {
   "cell_type": "markdown",
   "id": "ce3da8b2",
   "metadata": {},
   "source": [
    "# Modelando e Realizando o Forecasting"
   ]
  },
  {
   "cell_type": "code",
   "execution_count": null,
   "id": "79339053",
   "metadata": {},
   "outputs": [],
   "source": [
    "import pandas as pd\n",
    "import numpy as np\n",
    "from statsforecast import StatsForecast\n",
    "from statsforecast.models import Naive, SeasonalNaive, SeasonalWindowAverage, AutoARIMA"
   ]
  },
  {
   "cell_type": "markdown",
   "id": "0de27648",
   "metadata": {},
   "source": [
    "### Informações adiconais:"
   ]
  },
  {
   "cell_type": "markdown",
   "id": "83b77c30",
   "metadata": {},
   "source": [
    "Para essa aula utilizamos o arquivo **train.csv** dessa base aqui: https://www.kaggle.com/competitions/store-sales-time-series-forecasting/data?select=train.csv"
   ]
  },
  {
   "cell_type": "code",
   "execution_count": 116,
   "id": "bf6fd842",
   "metadata": {},
   "outputs": [
    {
     "data": {
      "text/html": [
       "<div>\n",
       "<style scoped>\n",
       "    .dataframe tbody tr th:only-of-type {\n",
       "        vertical-align: middle;\n",
       "    }\n",
       "\n",
       "    .dataframe tbody tr th {\n",
       "        vertical-align: top;\n",
       "    }\n",
       "\n",
       "    .dataframe thead th {\n",
       "        text-align: right;\n",
       "    }\n",
       "</style>\n",
       "<table border=\"1\" class=\"dataframe\">\n",
       "  <thead>\n",
       "    <tr style=\"text-align: right;\">\n",
       "      <th></th>\n",
       "      <th>date</th>\n",
       "      <th>store_nbr</th>\n",
       "      <th>family</th>\n",
       "      <th>sales</th>\n",
       "      <th>onpromotion</th>\n",
       "    </tr>\n",
       "    <tr>\n",
       "      <th>id</th>\n",
       "      <th></th>\n",
       "      <th></th>\n",
       "      <th></th>\n",
       "      <th></th>\n",
       "      <th></th>\n",
       "    </tr>\n",
       "  </thead>\n",
       "  <tbody>\n",
       "    <tr>\n",
       "      <th>0</th>\n",
       "      <td>2013-01-01</td>\n",
       "      <td>1</td>\n",
       "      <td>AUTOMOTIVE</td>\n",
       "      <td>0.000</td>\n",
       "      <td>0</td>\n",
       "    </tr>\n",
       "    <tr>\n",
       "      <th>1</th>\n",
       "      <td>2013-01-01</td>\n",
       "      <td>1</td>\n",
       "      <td>BABY CARE</td>\n",
       "      <td>0.000</td>\n",
       "      <td>0</td>\n",
       "    </tr>\n",
       "    <tr>\n",
       "      <th>2</th>\n",
       "      <td>2013-01-01</td>\n",
       "      <td>1</td>\n",
       "      <td>BEAUTY</td>\n",
       "      <td>0.000</td>\n",
       "      <td>0</td>\n",
       "    </tr>\n",
       "    <tr>\n",
       "      <th>3</th>\n",
       "      <td>2013-01-01</td>\n",
       "      <td>1</td>\n",
       "      <td>BEVERAGES</td>\n",
       "      <td>0.000</td>\n",
       "      <td>0</td>\n",
       "    </tr>\n",
       "    <tr>\n",
       "      <th>4</th>\n",
       "      <td>2013-01-01</td>\n",
       "      <td>1</td>\n",
       "      <td>BOOKS</td>\n",
       "      <td>0.000</td>\n",
       "      <td>0</td>\n",
       "    </tr>\n",
       "    <tr>\n",
       "      <th>...</th>\n",
       "      <td>...</td>\n",
       "      <td>...</td>\n",
       "      <td>...</td>\n",
       "      <td>...</td>\n",
       "      <td>...</td>\n",
       "    </tr>\n",
       "    <tr>\n",
       "      <th>3000883</th>\n",
       "      <td>2017-08-15</td>\n",
       "      <td>9</td>\n",
       "      <td>POULTRY</td>\n",
       "      <td>438.133</td>\n",
       "      <td>0</td>\n",
       "    </tr>\n",
       "    <tr>\n",
       "      <th>3000884</th>\n",
       "      <td>2017-08-15</td>\n",
       "      <td>9</td>\n",
       "      <td>PREPARED FOODS</td>\n",
       "      <td>154.553</td>\n",
       "      <td>1</td>\n",
       "    </tr>\n",
       "    <tr>\n",
       "      <th>3000885</th>\n",
       "      <td>2017-08-15</td>\n",
       "      <td>9</td>\n",
       "      <td>PRODUCE</td>\n",
       "      <td>2419.729</td>\n",
       "      <td>148</td>\n",
       "    </tr>\n",
       "    <tr>\n",
       "      <th>3000886</th>\n",
       "      <td>2017-08-15</td>\n",
       "      <td>9</td>\n",
       "      <td>SCHOOL AND OFFICE SUPPLIES</td>\n",
       "      <td>121.000</td>\n",
       "      <td>8</td>\n",
       "    </tr>\n",
       "    <tr>\n",
       "      <th>3000887</th>\n",
       "      <td>2017-08-15</td>\n",
       "      <td>9</td>\n",
       "      <td>SEAFOOD</td>\n",
       "      <td>16.000</td>\n",
       "      <td>0</td>\n",
       "    </tr>\n",
       "  </tbody>\n",
       "</table>\n",
       "<p>3000888 rows × 5 columns</p>\n",
       "</div>"
      ],
      "text/plain": [
       "              date  store_nbr                      family     sales  \\\n",
       "id                                                                    \n",
       "0       2013-01-01          1                  AUTOMOTIVE     0.000   \n",
       "1       2013-01-01          1                   BABY CARE     0.000   \n",
       "2       2013-01-01          1                      BEAUTY     0.000   \n",
       "3       2013-01-01          1                   BEVERAGES     0.000   \n",
       "4       2013-01-01          1                       BOOKS     0.000   \n",
       "...            ...        ...                         ...       ...   \n",
       "3000883 2017-08-15          9                     POULTRY   438.133   \n",
       "3000884 2017-08-15          9              PREPARED FOODS   154.553   \n",
       "3000885 2017-08-15          9                     PRODUCE  2419.729   \n",
       "3000886 2017-08-15          9  SCHOOL AND OFFICE SUPPLIES   121.000   \n",
       "3000887 2017-08-15          9                     SEAFOOD    16.000   \n",
       "\n",
       "         onpromotion  \n",
       "id                    \n",
       "0                  0  \n",
       "1                  0  \n",
       "2                  0  \n",
       "3                  0  \n",
       "4                  0  \n",
       "...              ...  \n",
       "3000883            0  \n",
       "3000884            1  \n",
       "3000885          148  \n",
       "3000886            8  \n",
       "3000887            0  \n",
       "\n",
       "[3000888 rows x 5 columns]"
      ]
     },
     "execution_count": 116,
     "metadata": {},
     "output_type": "execute_result"
    }
   ],
   "source": [
    "url= 'data/train.csv'\n",
    "\n",
    "df_competicao = pd.read_csv(url, index_col='id', parse_dates=['date'])\n",
    "\n",
    "df_competicao"
   ]
  },
  {
   "cell_type": "markdown",
   "id": "1f9cd8d3",
   "metadata": {},
   "source": [
    "Para não precisarmos trabalhar com todas as lojas presentes na colune **store_nbr**, iremos escolher apenas uma."
   ]
  },
  {
   "cell_type": "code",
   "execution_count": 117,
   "id": "0375bc71",
   "metadata": {},
   "outputs": [
    {
     "data": {
      "text/plain": [
       "54"
      ]
     },
     "execution_count": 117,
     "metadata": {},
     "output_type": "execute_result"
    }
   ],
   "source": [
    "df_competicao['store_nbr'].nunique()"
   ]
  },
  {
   "cell_type": "code",
   "execution_count": 118,
   "id": "83935a36",
   "metadata": {},
   "outputs": [],
   "source": [
    "df_loja_um = df_competicao.loc[df_competicao['store_nbr'] == 1, ['date', 'family', 'sales']]"
   ]
  },
  {
   "cell_type": "markdown",
   "id": "d5ce025a",
   "metadata": {},
   "source": [
    "Quando estamos trabalhando com times series, precisamos que a nossa base de dados siga um padrão de nomeclatura."
   ]
  },
  {
   "cell_type": "code",
   "execution_count": 119,
   "id": "4c987adf",
   "metadata": {},
   "outputs": [],
   "source": [
    "df_loja_um = df_loja_um.rename(columns={'date': 'ds', 'sales': 'y', 'family': 'unique_id'})"
   ]
  },
  {
   "cell_type": "code",
   "execution_count": 120,
   "id": "e4e2bf0d",
   "metadata": {},
   "outputs": [
    {
     "data": {
      "text/html": [
       "<div>\n",
       "<style scoped>\n",
       "    .dataframe tbody tr th:only-of-type {\n",
       "        vertical-align: middle;\n",
       "    }\n",
       "\n",
       "    .dataframe tbody tr th {\n",
       "        vertical-align: top;\n",
       "    }\n",
       "\n",
       "    .dataframe thead th {\n",
       "        text-align: right;\n",
       "    }\n",
       "</style>\n",
       "<table border=\"1\" class=\"dataframe\">\n",
       "  <thead>\n",
       "    <tr style=\"text-align: right;\">\n",
       "      <th></th>\n",
       "      <th>ds</th>\n",
       "      <th>unique_id</th>\n",
       "      <th>y</th>\n",
       "    </tr>\n",
       "    <tr>\n",
       "      <th>id</th>\n",
       "      <th></th>\n",
       "      <th></th>\n",
       "      <th></th>\n",
       "    </tr>\n",
       "  </thead>\n",
       "  <tbody>\n",
       "    <tr>\n",
       "      <th>0</th>\n",
       "      <td>2013-01-01</td>\n",
       "      <td>AUTOMOTIVE</td>\n",
       "      <td>0.000000</td>\n",
       "    </tr>\n",
       "    <tr>\n",
       "      <th>1</th>\n",
       "      <td>2013-01-01</td>\n",
       "      <td>BABY CARE</td>\n",
       "      <td>0.000000</td>\n",
       "    </tr>\n",
       "    <tr>\n",
       "      <th>2</th>\n",
       "      <td>2013-01-01</td>\n",
       "      <td>BEAUTY</td>\n",
       "      <td>0.000000</td>\n",
       "    </tr>\n",
       "    <tr>\n",
       "      <th>3</th>\n",
       "      <td>2013-01-01</td>\n",
       "      <td>BEVERAGES</td>\n",
       "      <td>0.000000</td>\n",
       "    </tr>\n",
       "    <tr>\n",
       "      <th>4</th>\n",
       "      <td>2013-01-01</td>\n",
       "      <td>BOOKS</td>\n",
       "      <td>0.000000</td>\n",
       "    </tr>\n",
       "    <tr>\n",
       "      <th>...</th>\n",
       "      <td>...</td>\n",
       "      <td>...</td>\n",
       "      <td>...</td>\n",
       "    </tr>\n",
       "    <tr>\n",
       "      <th>2999134</th>\n",
       "      <td>2017-08-15</td>\n",
       "      <td>POULTRY</td>\n",
       "      <td>234.892000</td>\n",
       "    </tr>\n",
       "    <tr>\n",
       "      <th>2999135</th>\n",
       "      <td>2017-08-15</td>\n",
       "      <td>PREPARED FOODS</td>\n",
       "      <td>42.822998</td>\n",
       "    </tr>\n",
       "    <tr>\n",
       "      <th>2999136</th>\n",
       "      <td>2017-08-15</td>\n",
       "      <td>PRODUCE</td>\n",
       "      <td>2240.230000</td>\n",
       "    </tr>\n",
       "    <tr>\n",
       "      <th>2999137</th>\n",
       "      <td>2017-08-15</td>\n",
       "      <td>SCHOOL AND OFFICE SUPPLIES</td>\n",
       "      <td>0.000000</td>\n",
       "    </tr>\n",
       "    <tr>\n",
       "      <th>2999138</th>\n",
       "      <td>2017-08-15</td>\n",
       "      <td>SEAFOOD</td>\n",
       "      <td>22.487000</td>\n",
       "    </tr>\n",
       "  </tbody>\n",
       "</table>\n",
       "<p>55572 rows × 3 columns</p>\n",
       "</div>"
      ],
      "text/plain": [
       "                ds                   unique_id            y\n",
       "id                                                         \n",
       "0       2013-01-01                  AUTOMOTIVE     0.000000\n",
       "1       2013-01-01                   BABY CARE     0.000000\n",
       "2       2013-01-01                      BEAUTY     0.000000\n",
       "3       2013-01-01                   BEVERAGES     0.000000\n",
       "4       2013-01-01                       BOOKS     0.000000\n",
       "...            ...                         ...          ...\n",
       "2999134 2017-08-15                     POULTRY   234.892000\n",
       "2999135 2017-08-15              PREPARED FOODS    42.822998\n",
       "2999136 2017-08-15                     PRODUCE  2240.230000\n",
       "2999137 2017-08-15  SCHOOL AND OFFICE SUPPLIES     0.000000\n",
       "2999138 2017-08-15                     SEAFOOD    22.487000\n",
       "\n",
       "[55572 rows x 3 columns]"
      ]
     },
     "execution_count": 120,
     "metadata": {},
     "output_type": "execute_result"
    }
   ],
   "source": [
    "df_loja_um"
   ]
  },
  {
   "cell_type": "markdown",
   "id": "7ea2971d",
   "metadata": {},
   "source": [
    "## Tipos de Validação"
   ]
  },
  {
   "cell_type": "markdown",
   "id": "c2502ced",
   "metadata": {},
   "source": [
    "Iremos pegar 2013 completo para treino e os 3 primeiros meses de 2014 para validar."
   ]
  },
  {
   "cell_type": "code",
   "execution_count": 121,
   "id": "64266337",
   "metadata": {},
   "outputs": [],
   "source": [
    "treino = df_loja_um.loc[df_loja_um['ds'] < '2014-01-01']\n",
    "\n",
    "valid = df_loja_um[(df_loja_um['ds'] >= '2014-01-01') & (df_loja_um['ds'] <= '2014-04-01')]\n",
    "\n",
    "h = valid['ds'].nunique()"
   ]
  },
  {
   "cell_type": "code",
   "execution_count": 122,
   "id": "57e54991",
   "metadata": {},
   "outputs": [
    {
     "data": {
      "text/plain": [
       "91"
      ]
     },
     "execution_count": 122,
     "metadata": {},
     "output_type": "execute_result"
    }
   ],
   "source": [
    "h"
   ]
  },
  {
   "cell_type": "code",
   "execution_count": 123,
   "id": "9f915269",
   "metadata": {},
   "outputs": [],
   "source": [
    "def wmape(y_true, y_pred):\n",
    "    return np.abs(y_true - y_pred).sum() / np.abs(y_true).sum()"
   ]
  },
  {
   "cell_type": "markdown",
   "id": "891e83cf",
   "metadata": {},
   "source": [
    "## Criando o modelo"
   ]
  },
  {
   "cell_type": "code",
   "execution_count": 124,
   "id": "de83aac9",
   "metadata": {},
   "outputs": [
    {
     "name": "stdout",
     "output_type": "stream",
     "text": [
      "WMAPE:  57.36%\n"
     ]
    }
   ],
   "source": [
    "model = StatsForecast(models=[Naive()], freq='D', n_jobs=-1)\n",
    "\n",
    "model.fit(treino)\n",
    "\n",
    "forecast_df = model.predict(h=h, level=[90])\n",
    "\n",
    "forecast_df = forecast_df.reset_index().merge(valid, on=['ds', 'unique_id'], how='left')\n",
    "\n",
    "wmape1 = wmape(forecast_df['y'].values, forecast_df['Naive'].values)\n",
    "\n",
    "print(f'WMAPE: {wmape1: .2%}')"
   ]
  },
  {
   "cell_type": "markdown",
   "id": "8ba5e326",
   "metadata": {},
   "source": [
    "## Modelo de sazonalidade"
   ]
  },
  {
   "cell_type": "markdown",
   "id": "5a7f20b8",
   "metadata": {},
   "source": [
    "Agora iremos levar em consideração no nosso modelo de base a nossa sazonalidade."
   ]
  },
  {
   "cell_type": "code",
   "execution_count": 125,
   "id": "18f8677e",
   "metadata": {},
   "outputs": [
    {
     "name": "stdout",
     "output_type": "stream",
     "text": [
      "WMAPE:  50.84%\n"
     ]
    }
   ],
   "source": [
    "modelS = StatsForecast(models=[SeasonalNaive(season_length=7)], freq='D', n_jobs=-1)\n",
    "\n",
    "modelS.fit(treino)\n",
    "\n",
    "forecast_dfs = modelS.predict(h=h, level=[90])\n",
    "\n",
    "forecast_dfs = forecast_dfs.reset_index().merge(valid, on=['ds', 'unique_id'], how='left')\n",
    "\n",
    "wmape2 = wmape(forecast_dfs['y'].values, forecast_dfs['SeasonalNaive'].values)\n",
    "\n",
    "print(f'WMAPE: {wmape2: .2%}')"
   ]
  },
  {
   "cell_type": "markdown",
   "id": "f3dcb904",
   "metadata": {},
   "source": [
    "## Modelo de sazonalidade junto com a média model"
   ]
  },
  {
   "cell_type": "markdown",
   "id": "eca46c94",
   "metadata": {},
   "source": [
    "Agora iremos levar em consideração a sazonalidade e a média model."
   ]
  },
  {
   "cell_type": "code",
   "execution_count": 126,
   "id": "c9ec0633",
   "metadata": {},
   "outputs": [
    {
     "name": "stdout",
     "output_type": "stream",
     "text": [
      "WMAPE:  52.74%\n"
     ]
    }
   ],
   "source": [
    "modelSM = StatsForecast(models=[SeasonalWindowAverage(season_length=7, window_size=2)], freq='D', n_jobs=-1)\n",
    "\n",
    "modelSM.fit(treino)\n",
    "\n",
    "forecast_dfsm = modelSM.predict(h=h)\n",
    "\n",
    "forecast_dfsm = forecast_dfsm.reset_index().merge(valid, on=['ds', 'unique_id'], how='left')\n",
    "\n",
    "wmape3 = wmape(forecast_dfsm['y'].values, forecast_dfsm['SeasWA'].values)\n",
    "\n",
    "print(f'WMAPE: {wmape3: .2%}')"
   ]
  },
  {
   "cell_type": "markdown",
   "id": "0ff851c4",
   "metadata": {},
   "source": [
    "## Modelo ARIMA"
   ]
  },
  {
   "cell_type": "code",
   "execution_count": 127,
   "id": "644a778e",
   "metadata": {},
   "outputs": [
    {
     "name": "stdout",
     "output_type": "stream",
     "text": [
      "WMAPE:  53.20%\n"
     ]
    }
   ],
   "source": [
    "modelA = StatsForecast(models=[AutoARIMA(season_length=7)], freq='D', n_jobs=-1)\n",
    "\n",
    "modelA.fit(treino)\n",
    "\n",
    "forecast_dfA = modelA.predict(h=h, level=[90])\n",
    "\n",
    "forecast_dfA = forecast_dfA.reset_index().merge(valid, on=['ds', 'unique_id'], how='left')\n",
    "\n",
    "wmape4 = wmape(forecast_dfA['y'].values, forecast_dfA['AutoARIMA'].values)\n",
    "\n",
    "print(f'WMAPE: {wmape4: .2%}')"
   ]
  }
 ],
 "metadata": {
  "kernelspec": {
   "display_name": "Python 3",
   "language": "python",
   "name": "python3"
  },
  "language_info": {
   "codemirror_mode": {
    "name": "ipython",
    "version": 3
   },
   "file_extension": ".py",
   "mimetype": "text/x-python",
   "name": "python",
   "nbconvert_exporter": "python",
   "pygments_lexer": "ipython3",
   "version": "3.11.2"
  }
 },
 "nbformat": 4,
 "nbformat_minor": 5
}
